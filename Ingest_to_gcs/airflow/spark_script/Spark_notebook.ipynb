{
 "cells": [
  {
   "cell_type": "code",
   "execution_count": 58,
   "id": "30e36c40",
   "metadata": {},
   "outputs": [],
   "source": [
    "import pyspark\n",
    "from pyspark.sql import SparkSession\n",
    "from pyspark.conf import SparkConf\n",
    "from pyspark.context import SparkContext"
   ]
  },
  {
   "cell_type": "code",
   "execution_count": 2,
   "id": "ff71e417",
   "metadata": {},
   "outputs": [],
   "source": [
    "credentials_location = '/home/om/.google/credentials/google_credentials.json'\n",
    "\n",
    "conf = SparkConf() \\\n",
    "    .setMaster('local[*]') \\\n",
    "    .setAppName('test') \\\n",
    "    .set(\"spark.jars\", \"/home/om/lib/gcs-connector-hadoop3-2.2.5.jar\") \\\n",
    "    .set(\"spark.hadoop.google.cloud.auth.service.account.enable\", \"true\") \\\n",
    "    .set(\"spark.hadoop.google.cloud.auth.service.account.json.keyfile\", credentials_location)"
   ]
  },
  {
   "cell_type": "code",
   "execution_count": 3,
   "id": "fef9d816",
   "metadata": {},
   "outputs": [
    {
     "name": "stderr",
     "output_type": "stream",
     "text": [
      "WARNING: An illegal reflective access operation has occurred\n",
      "WARNING: Illegal reflective access by org.apache.spark.unsafe.Platform (file:/home/om/spark/spark-3.0.3-bin-hadoop3.2/jars/spark-unsafe_2.12-3.0.3.jar) to constructor java.nio.DirectByteBuffer(long,int)\n",
      "WARNING: Please consider reporting this to the maintainers of org.apache.spark.unsafe.Platform\n",
      "WARNING: Use --illegal-access=warn to enable warnings of further illegal reflective access operations\n",
      "WARNING: All illegal access operations will be denied in a future release\n",
      "22/04/22 06:40:44 WARN NativeCodeLoader: Unable to load native-hadoop library for your platform... using builtin-java classes where applicable\n",
      "Using Spark's default log4j profile: org/apache/spark/log4j-defaults.properties\n",
      "Setting default log level to \"WARN\".\n",
      "To adjust logging level use sc.setLogLevel(newLevel). For SparkR, use setLogLevel(newLevel).\n"
     ]
    }
   ],
   "source": [
    "sc = SparkContext(conf=conf)\n",
    "\n",
    "sc._jsc.hadoopConfiguration().set(\"fs.AbstractFileSystem.gs.impl\",  \"com.google.cloud.hadoop.fs.gcs.GoogleHadoopFS\")\n",
    "sc._jsc.hadoopConfiguration().set(\"fs.gs.impl\", \"com.google.cloud.hadoop.fs.gcs.GoogleHadoopFileSystem\")\n",
    "sc._jsc.hadoopConfiguration().set(\"fs.gs.auth.service.account.json.keyfile\", credentials_location)\n",
    "sc._jsc.hadoopConfiguration().set(\"fs.gs.auth.service.account.enable\", \"true\")"
   ]
  },
  {
   "cell_type": "code",
   "execution_count": 59,
   "id": "64ad7953",
   "metadata": {},
   "outputs": [],
   "source": [
    "spark = SparkSession.builder \\\n",
    "    .config(conf=sc.getConf()) \\\n",
    "    .getOrCreate()\n",
    "\n",
    "spark.conf.set(\"mapreduce.fileoutputcommitter.marksuccessfuljobs\", \"false\")"
   ]
  },
  {
   "cell_type": "code",
   "execution_count": 60,
   "id": "63c4476c",
   "metadata": {},
   "outputs": [],
   "source": [
    "df_1995 = spark.read.parquet('gs://nf_data_lake_speedy-carver-347016/NY_Tree_Census/new_york_tree_census_1995.parquet')"
   ]
  },
  {
   "cell_type": "code",
   "execution_count": 61,
   "id": "36ff2e2e",
   "metadata": {},
   "outputs": [],
   "source": [
    "df_2015 = spark.read.parquet('gs://nf_data_lake_speedy-carver-347016/NY_Tree_Census/new_york_tree_census_2015.parquet')"
   ]
  },
  {
   "cell_type": "code",
   "execution_count": 62,
   "id": "7da0189b",
   "metadata": {},
   "outputs": [],
   "source": [
    "col_1995 = ('address','house_number','street','zip_original','cb_original','site','species','diameter','wires','sidewalk_condition'\n",
    "           'support_structure','x','y','longitude','latitude','cb_new','zip_new','censustract_2010','censusblock_2010','nta_2010',\n",
    "           'segmentid','spc_latin','location','recordid','sidewalk_condition','support_structure')\n",
    "\n",
    "df_1995 = df_1995.drop(*col_1995) "
   ]
  },
  {
   "cell_type": "code",
   "execution_count": 63,
   "id": "5d5a4cd7",
   "metadata": {},
   "outputs": [
    {
     "name": "stdout",
     "output_type": "stream",
     "text": [
      "+---------+-------------+----------------+\n",
      "|   status|      borough|      spc_common|\n",
      "+---------+-------------+----------------+\n",
      "|     Good|       Queens|         OAK PIN|\n",
      "|Excellent|        Bronx|     HONEYLOCUST|\n",
      "|     Good|Staten Island|OAK NORTHERN RED|\n",
      "|     Poor|       Queens|    MAPLE NORWAY|\n",
      "|     Good|       Queens|    MAPLE NORWAY|\n",
      "|     Good|       Queens|         OAK PIN|\n",
      "|     Poor|     Brooklyn|LONDON PLANETREE|\n",
      "|     Good|Staten Island|          GINKGO|\n",
      "|Excellent|        Bronx|     HONEYLOCUST|\n",
      "|     Good|       Queens|       ASH GREEN|\n",
      "+---------+-------------+----------------+\n",
      "only showing top 10 rows\n",
      "\n"
     ]
    }
   ],
   "source": [
    "df_1995.show(10)"
   ]
  },
  {
   "cell_type": "code",
   "execution_count": 64,
   "id": "6042539c",
   "metadata": {},
   "outputs": [],
   "source": [
    "col_2015 = ('tree_id','block_id','created_at','tree_dbh','stump_diam','curb_loc','status','spc_latin','steward','guards','sidewalk',\n",
    "           'user_type','problems','root_stone','root_grate','root_other','trunk_wire','trnk_light','trnk_other','brch_light',\n",
    "           'brch_shoe','brch_other','address','zipcode','zip_city','cb_num','borocode','cncldist','st_assem','st_senate',\n",
    "           'nta','nta_name','boro_ct','state','latitude','longitude','x_sp','y_sp')\n",
    "df_2015 = df_2015.drop(*col_2015) "
   ]
  },
  {
   "cell_type": "code",
   "execution_count": 66,
   "id": "dfeec517",
   "metadata": {},
   "outputs": [],
   "source": [
    "from pyspark.sql.functions import lit\n",
    "df_1995 = df_1995.withColumnRenamed(\"status\",\"health\")\\\n",
    "                 .withColumnRenamed(\"borough\",\"boroname\")\\\n",
    "                 .withColumn(\"census_year\",lit(1995))"
   ]
  },
  {
   "cell_type": "code",
   "execution_count": 67,
   "id": "5eb9035a",
   "metadata": {},
   "outputs": [
    {
     "name": "stdout",
     "output_type": "stream",
     "text": [
      "+---------+-------------+----------------+-----------+\n",
      "|   health|     boroname|      spc_common|census_year|\n",
      "+---------+-------------+----------------+-----------+\n",
      "|     Good|       Queens|         OAK PIN|       1995|\n",
      "|Excellent|        Bronx|     HONEYLOCUST|       1995|\n",
      "|     Good|Staten Island|OAK NORTHERN RED|       1995|\n",
      "|     Poor|       Queens|    MAPLE NORWAY|       1995|\n",
      "|     Good|       Queens|    MAPLE NORWAY|       1995|\n",
      "|     Good|       Queens|         OAK PIN|       1995|\n",
      "|     Poor|     Brooklyn|LONDON PLANETREE|       1995|\n",
      "|     Good|Staten Island|          GINKGO|       1995|\n",
      "|Excellent|        Bronx|     HONEYLOCUST|       1995|\n",
      "|     Good|       Queens|       ASH GREEN|       1995|\n",
      "+---------+-------------+----------------+-----------+\n",
      "only showing top 10 rows\n",
      "\n"
     ]
    }
   ],
   "source": [
    "df_1995.show(10)"
   ]
  },
  {
   "cell_type": "code",
   "execution_count": 69,
   "id": "ac31086a",
   "metadata": {},
   "outputs": [],
   "source": [
    "df_2015 = df_2015.withColumn(\"census_year\",lit(2015))"
   ]
  },
  {
   "cell_type": "code",
   "execution_count": 70,
   "id": "43ac1aec",
   "metadata": {},
   "outputs": [
    {
     "name": "stdout",
     "output_type": "stream",
     "text": [
      "+------+--------------------+---------+-----------+\n",
      "|health|          spc_common| boroname|census_year|\n",
      "+------+--------------------+---------+-----------+\n",
      "|  Good|           green ash|   Queens|       2015|\n",
      "|  Good|         honeylocust|   Queens|       2015|\n",
      "|  Good|        Callery pear|   Queens|       2015|\n",
      "|  Good|        Callery pear| Brooklyn|       2015|\n",
      "|  Good|'Schubert' chokec...|   Queens|       2015|\n",
      "|  Good|         honeylocust|Manhattan|       2015|\n",
      "|  Fair|    northern red oak| Brooklyn|       2015|\n",
      "|  Good|     American linden| Brooklyn|       2015|\n",
      "|  Good|             pin oak|   Queens|       2015|\n",
      "|  Good|        American elm|    Bronx|       2015|\n",
      "+------+--------------------+---------+-----------+\n",
      "only showing top 10 rows\n",
      "\n"
     ]
    }
   ],
   "source": [
    "df_2015.show(10)"
   ]
  },
  {
   "cell_type": "code",
   "execution_count": 71,
   "id": "cde1554b",
   "metadata": {},
   "outputs": [],
   "source": [
    "df_species = spark.read.parquet('gs://nf_data_lake_speedy-carver-347016/NY_Tree_Census/new_york_tree_species.parquet')"
   ]
  },
  {
   "cell_type": "code",
   "execution_count": 72,
   "id": "93f4b0c2",
   "metadata": {},
   "outputs": [],
   "source": [
    "df_species = df_species.drop('comments')"
   ]
  },
  {
   "cell_type": "code",
   "execution_count": 73,
   "id": "096602c3",
   "metadata": {},
   "outputs": [
    {
     "name": "stdout",
     "output_type": "stream",
     "text": [
      "root\n",
      " |-- species_scientific_name: string (nullable = true)\n",
      " |-- species_common_name: string (nullable = true)\n",
      " |-- form: string (nullable = true)\n",
      " |-- growth_rate: string (nullable = true)\n",
      " |-- fall_color: string (nullable = true)\n",
      " |-- environmental_tolerances: string (nullable = true)\n",
      " |-- location_tolerances: string (nullable = true)\n",
      " |-- notes_suggested_cultivars: string (nullable = true)\n",
      " |-- tree_size: string (nullable = true)\n",
      "\n"
     ]
    }
   ],
   "source": [
    "df_species.printSchema()"
   ]
  },
  {
   "cell_type": "code",
   "execution_count": 55,
   "id": "65e5f4e3",
   "metadata": {},
   "outputs": [],
   "source": [
    "df_2015=df_2015.filter((df_2015.health != \"\"))"
   ]
  },
  {
   "cell_type": "code",
   "execution_count": 56,
   "id": "d1d62ddf",
   "metadata": {},
   "outputs": [
    {
     "name": "stderr",
     "output_type": "stream",
     "text": [
      "\r",
      "[Stage 111:==========================================>              (3 + 1) / 4]\r",
      "\r",
      "                                                                                \r"
     ]
    },
    {
     "name": "stdout",
     "output_type": "stream",
     "text": [
      "+------+\n",
      "|health|\n",
      "+------+\n",
      "|  Good|\n",
      "|  Fair|\n",
      "|  Poor|\n",
      "+------+\n",
      "\n"
     ]
    }
   ],
   "source": [
    "df_2015.select('health').distinct().show()"
   ]
  },
  {
   "cell_type": "code",
   "execution_count": 84,
   "id": "38d195bf",
   "metadata": {},
   "outputs": [
    {
     "name": "stderr",
     "output_type": "stream",
     "text": [
      "\r",
      "[Stage 147:==========================================>              (3 + 1) / 4]\r",
      "\r",
      "                                                                                \r"
     ]
    },
    {
     "name": "stdout",
     "output_type": "stream",
     "text": [
      "+--------------+\n",
      "|        health|\n",
      "+--------------+\n",
      "|     Excellent|\n",
      "|          Dead|\n",
      "|Planting Space|\n",
      "|          Good|\n",
      "|       Unknown|\n",
      "|          Fair|\n",
      "|         Stump|\n",
      "|          Poor|\n",
      "|         Shaft|\n",
      "|      Critical|\n",
      "+--------------+\n",
      "\n"
     ]
    }
   ],
   "source": [
    "df_1995.select('health').distinct().show()"
   ]
  },
  {
   "cell_type": "code",
   "execution_count": 80,
   "id": "2942dbcc",
   "metadata": {},
   "outputs": [],
   "source": [
    "df_2015=df_2015.filter((df_2015.spc_common != \"\"))"
   ]
  },
  {
   "cell_type": "code",
   "execution_count": 24,
   "id": "b2627622",
   "metadata": {},
   "outputs": [],
   "source": [
    "from pyspark.sql import SQLContext\n",
    "sqlContext = SQLContext(sc)\n",
    "sqlContext.setConf(\"spark.sql.parquet.compression.codec\",\"uncompressed\")"
   ]
  },
  {
   "cell_type": "code",
   "execution_count": 81,
   "id": "2c4c302e",
   "metadata": {},
   "outputs": [
    {
     "name": "stderr",
     "output_type": "stream",
     "text": [
      "                                                                                \r"
     ]
    }
   ],
   "source": [
    "df_1995.coalesce(1).write.parquet('gs://nf_data_lake_speedy-carver-347016/NY_Tree_Census/census_1995')"
   ]
  },
  {
   "cell_type": "code",
   "execution_count": 82,
   "id": "f6737c94",
   "metadata": {},
   "outputs": [
    {
     "name": "stderr",
     "output_type": "stream",
     "text": [
      "                                                                                \r"
     ]
    }
   ],
   "source": [
    "df_2015.coalesce(1).write.parquet('gs://nf_data_lake_speedy-carver-347016/NY_Tree_Census/census_2015')"
   ]
  },
  {
   "cell_type": "code",
   "execution_count": 83,
   "id": "2db4ccdf",
   "metadata": {},
   "outputs": [
    {
     "name": "stderr",
     "output_type": "stream",
     "text": [
      "                                                                                \r"
     ]
    }
   ],
   "source": [
    "df_species.write.parquet('gs://nf_data_lake_speedy-carver-347016/NY_Tree_Census/tree_species')"
   ]
  },
  {
   "cell_type": "code",
   "execution_count": null,
   "id": "0dd5d0a8",
   "metadata": {},
   "outputs": [],
   "source": []
  }
 ],
 "metadata": {
  "kernelspec": {
   "display_name": "Python 3 (ipykernel)",
   "language": "python",
   "name": "python3"
  },
  "language_info": {
   "codemirror_mode": {
    "name": "ipython",
    "version": 3
   },
   "file_extension": ".py",
   "mimetype": "text/x-python",
   "name": "python",
   "nbconvert_exporter": "python",
   "pygments_lexer": "ipython3",
   "version": "3.9.7"
  }
 },
 "nbformat": 4,
 "nbformat_minor": 5
}
